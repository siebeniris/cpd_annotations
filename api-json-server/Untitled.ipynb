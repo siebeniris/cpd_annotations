{
 "cells": [
  {
   "cell_type": "code",
   "execution_count": 7,
   "metadata": {},
   "outputs": [],
   "source": [
    "import os\n",
    "import json\n"
   ]
  },
  {
   "cell_type": "code",
   "execution_count": 8,
   "metadata": {},
   "outputs": [],
   "source": [
    "with open('db.json') as reader:\n",
    "    db = json.load(reader)"
   ]
  },
  {
   "cell_type": "code",
   "execution_count": 9,
   "metadata": {},
   "outputs": [],
   "source": [
    "new_db = []\n",
    "idx = 0\n",
    "for key, value in db.items():\n",
    "    new_db.append({\n",
    "        \"id\":idx,\n",
    "        \"name\":key, \n",
    "        \"review_list\": value\n",
    "        \n",
    "    })\n",
    "    idx += 1\n"
   ]
  },
  {
   "cell_type": "code",
   "execution_count": null,
   "metadata": {},
   "outputs": [],
   "source": [
    "new_db[:2]"
   ]
  },
  {
   "cell_type": "code",
   "execution_count": 19,
   "metadata": {},
   "outputs": [],
   "source": [
    "with open('new_db.json','w') as writer:\n",
    "    json.dump({\"users\":[],\"annotations\":[],\"reviews\":new_db},writer)"
   ]
  },
  {
   "cell_type": "code",
   "execution_count": 11,
   "metadata": {},
   "outputs": [
    {
     "data": {
      "text/plain": [
       "1494"
      ]
     },
     "execution_count": 11,
     "metadata": {},
     "output_type": "execute_result"
    }
   ],
   "source": [
    "len(new_db)"
   ]
  },
  {
   "cell_type": "code",
   "execution_count": 12,
   "metadata": {},
   "outputs": [
    {
     "data": {
      "text/plain": [
       "{'id': 0,\n",
       " 'name': 'facility_136',\n",
       " 'review_list': [{'id': 0,\n",
       "   'uid': '17f60c40-74f2-47bd-ae5a-3117fceebb59',\n",
       "   'sentence': 'Very good for the price point. This is a somewhat dated but well kept property in the heart of the business and entertainment area of Fairfax. Rooms are well appointed to Hyat standards and recently renovated. And the Hyat bed is as comfortable as always. Lots of staff in the lobby greeting and assisting and very visible. Nice staff in the restaurant bar though the prices area tad high for quantities received.',\n",
       "   'offset': [256, 323],\n",
       "   'date': '2015-05-28',\n",
       "   'cpt': '0',\n",
       "   'category': 'facility'},\n",
       "  {'id': 1,\n",
       "   'uid': 'e86a1d33-3b1f-4fbd-9a5f-cca66f2c108e',\n",
       "   'sentence': 'The room furniture was old worn and extremely dirty. I was moved twice 2 rooms and saw three rooms all were dusty dirty the sofa were so dirty that you could not sit on them and the bed frames were disgusting. And the rooms smelled. They had no handicap rooms that had 2 beds and to accommodate my name need for 2 beds for a handicap person and someone else the manager suggested that we purchase 2 adjoining rooms for a fee of course. The lobby was great but the pictures on their website was truly misleading.',\n",
       "   'offset': [436, 511],\n",
       "   'date': '2015-07-01',\n",
       "   'cpt': '0',\n",
       "   'category': 'facility'},\n",
       "  {'id': 2,\n",
       "   'uid': '059622f0-bf7f-428b-8501-7517cf64fd48',\n",
       "   'sentence': 'Comfortable Spacious Clean Room. This is our first time visit in Washington DC. I spent hours to do research to decide where to stay. I picked a good deal on hotwire to stayed at Hyat for 4 nights with parking due to our budget. The room is very spacious and clean. We did not use much of the hotel facilities beside the laundry room. There is only one washer and dryer. So if there is people ahead of you you need to wait. I was waiting for 15 hours for my turn. I wish they have at least two of each. The hotel located in a safe suburban neighborhood. You will many restaurants a Target and a Costco close by. I found it is very convenience to shop necessaries and eat. It took us about the 35 to 40 mins to downtown dc. If we go to DC next time we will take Amtrak and stay at downtown.',\n",
       "   'offset': [266, 334],\n",
       "   'date': '2015-08-28',\n",
       "   'cpt': '0',\n",
       "   'category': 'facility'},\n",
       "  {'id': 3,\n",
       "   'uid': '35ba1f32-b86b-4d3c-8f77-5734b21a8b72',\n",
       "   'sentence': 'This hotel was booked as part of a wedding group. First impressions of the hotel was great. Walked in to an updated lobby the staff was friendly got checked in. Got off the elevator to an out dated hall the was in need of repair. When we got to our room it was renovated but the wallpaper was falling off in a few areas and the air conditioner was not working properly. The next day there was a smell down the hallway down to the pool and although they were trying to address it later in the afternoon it was still pretty rank to where my three year old after leaving the pool was smelling like the smell. The Breakfast buffet was decent but not for the price. With them being associated with Starbucks I would expect the coffee to be better. I had stay here again but would not be my first option and would book on Expedia or a bargain site not for full price.',\n",
       "   'offset': [161, 229],\n",
       "   'date': '2015-11-01',\n",
       "   'cpt': '0',\n",
       "   'category': 'facility'},\n",
       "  {'id': 4,\n",
       "   'uid': '932edadd-78f8-44f6-ae84-2b81a3ea8f7d',\n",
       "   'sentence': 'The pool spa fitness centerCigarete smokers hanging out at the front door. The smoke travels back inside to where you wait for the elevators.',\n",
       "   'offset': [75, 141],\n",
       "   'date': '2016-01-02',\n",
       "   'cpt': '0',\n",
       "   'category': 'facility'},\n",
       "  {'id': 5,\n",
       "   'uid': '2837be1a-f161-41cf-8940-73447459b8ec',\n",
       "   'sentence': 'March 30. Overall stay was very good. Elevators need work too many tour buses came in at the same time and one of the elevators was not working properly. Ate in the sea food buffet sea food tasted frozen but the prime rib was excellent. The desserts tasted store bought. Need to have the chef prepare the foods fresh even if the price has to increase.',\n",
       "   'offset': [38, 153],\n",
       "   'date': '2016-04-04',\n",
       "   'cpt': '0',\n",
       "   'category': 'facility'},\n",
       "  {'id': 6,\n",
       "   'uid': '4d9aa2a8-19bf-43aa-b076-2fed95622ae7',\n",
       "   'sentence': 'Service fast and politeMy room was occupied. My 2nd room had a sofa that was so stained that I would not let anyone sit on. I was there 2 days with never receiving shampoo conditioner for the shower. Bedding in closet had appearance of rags. Plugs in lobby do not work.',\n",
       "   'offset': [242, 269],\n",
       "   'date': '2016-05-18',\n",
       "   'cpt': '0',\n",
       "   'category': 'facility'},\n",
       "  {'id': 7,\n",
       "   'uid': 'c0626238-117f-4874-a946-de0d762bf84b',\n",
       "   'sentence': 'Understaffed expensive hotel good breakfast 1. We had poor experience. The hotel had too many guests checking in on 62 including tens of middle school students. We initially were given only one room key for 4 guests. 2. Room rate was high and room was not spacious. There was no water available in the room. 3. Supplies bathroom tissue towels toiletries etc. were minimal4. Staff was not responsive and not even apologetic for long delays in checking in. They did not take time to explain when and where breakfast was. Attitude of front desk manager was this is the way it is. 5. did not get extension of check out that most Hyat Regencies routinely provide I have stayed at several across the world. 6. Overall poor value. Overall amenities and facilities seem to be old.',\n",
       "   'offset': [724, 772],\n",
       "   'date': '2016-06-02',\n",
       "   'cpt': '0',\n",
       "   'category': 'facility'},\n",
       "  {'id': 8,\n",
       "   'uid': 'a1fcdaa1-66fc-4c62-a9cb-b87087c5b55a',\n",
       "   'sentence': 'Hyat or Super 8. Stayed here on a recent business trip for 5 days. No king beds available upon arrival got a lumpy queen. Hotel staff were friendly and mostly helpful. However other than the lobby the rest of the facility was sub par. Room 61 had the following demerits analog TV the dresser drawer fell out at the first use there was a light switch that turned on nothing bathroom door jam was rotted some water stains on the ceiling could not reset the incorrect time on the clock so I called down for a wake call only to have the handset disconnect from the phone. Two of my teammates switched rooms for more significant issues like TV not working and mechanical noise. The rooms had very thin walls. The hotel is undergoing a renovation too the gym was in dis array when we arrived and not available one morning. When they put it back together it was small but fine. The elevators were being worked on one day but the issue was resolved. All in all very disappointing and did not meet my expectations of Hyat standards.',\n",
       "   'offset': [704, 816],\n",
       "   'date': '2016-08-08',\n",
       "   'cpt': '0',\n",
       "   'category': 'facility'},\n",
       "  {'id': 9,\n",
       "   'uid': 'e4f6a18a-f4b6-47eb-988d-fa9f2028f449',\n",
       "   'sentence': 'Water Was Shut Off. I have stayed at this hotel twice now but the last time August 2016 was the least pleasant. In addition to an odd set up for the rooms the rooms on my hall were incredibly hot throughout the day despite a thermostat indicating sixty degrees. Some residents on my hall had to prop their doors open to encourage ventilation. At 2 am on the first night we were there the room beside us flushed their toilet that somehow caused a loud reverberating noise to echo down our half of the hallway. Hotel staff did respond quickly to this issue. However the next night we did not get much sleep either because of the heat issue. The last morning only two out of our three guests were able to take our showers because the water to the hotel was shut off. This was not a planned or pre announced water shut off as is mentioned in other reviews. We were never notified of this issue and only found out because we mentioned it to the front desk. As we were there for a pageant competition it made getting ready incredibly difficult and actually caused the pageants schedule to be modified because of the inconvenience. I would suggest the hotel implement an emergency phone alert system in cases of emergency water shut off. With all the technology and automated systems of todays society it is hard to believe they did not have something of that sort already.',\n",
       "   'offset': [262, 342],\n",
       "   'date': '2016-10-24',\n",
       "   'cpt': '0',\n",
       "   'category': 'facility'},\n",
       "  {'id': 10,\n",
       "   'uid': 'e9998ed2-12ef-4ee7-a7e4-5ebf07f881d7',\n",
       "   'sentence': 'The staff was extremely helpful and friendly. Our room was excellent The only thing we did not care for was we both coffee drinkers no coffee on the lobby except you buy a cup at the Starbucks inside the snack area. Had the continental breakfast and for 2 cups of coffee and a bowl of oatmeal it cost us 150 a little pricey but the hotel was greatly.',\n",
       "   'offset': [46, 215],\n",
       "   'date': '2017-01-17',\n",
       "   'cpt': '1',\n",
       "   'category': 'facility'},\n",
       "  {'id': 11,\n",
       "   'uid': 'af4c914c-cfba-436a-99a4-e0a89c79fa5c',\n",
       "   'sentence': 'Very pleasant. the room was very clean and organize. the staff was very professional and friendly. Check in and out was very fast and easy. The room was recently renovated and it was very comfortable. I traveled with my three kids and we were very comfortable since the room had 2 queen beds and a sofa bed. We had a great time. The pool and gym was also very clean.',\n",
       "   'offset': [329, 366],\n",
       "   'date': '2017-03-01',\n",
       "   'cpt': '1',\n",
       "   'category': 'facility'},\n",
       "  {'id': 12,\n",
       "   'uid': '0b328e71-36e7-4b4a-bc01-263fa6040524',\n",
       "   'sentence': 'Great hotel. Just spent one night. Great hotel clean and quiet lots of amenities.',\n",
       "   'offset': [35, 81],\n",
       "   'date': '2017-03-20',\n",
       "   'cpt': '1',\n",
       "   'category': 'facility'},\n",
       "  {'id': 13,\n",
       "   'uid': '29584f53-9753-4f8e-a8d4-ddf4323b604c',\n",
       "   'sentence': 'Nice accommodations clean rooms.',\n",
       "   'offset': [0, 32],\n",
       "   'date': '2017-04-06',\n",
       "   'cpt': '1',\n",
       "   'category': 'facility'},\n",
       "  {'id': 14,\n",
       "   'uid': '6686fc75-7ee1-44bc-92f2-cdadf9d81208',\n",
       "   'sentence': 'Great rom nice property. Have been here for a few days and am pleased wth the property clean and comfortable room decent food in restaurant and a very good gym. The room has comfortable bed and linens large Samsung tv and a good shower with decent pressure. The gym has many aerobic stations and good quality machinesit is a little west of Tysons Corner and certainly worth the savings to make the short 10 minute drive from Tysons.',\n",
       "   'offset': [25, 160],\n",
       "   'date': '2017-04-19',\n",
       "   'cpt': '1',\n",
       "   'category': 'facility'},\n",
       "  {'id': 15,\n",
       "   'uid': '129369a1-8327-4be6-8c04-db38e0d50ec8',\n",
       "   'sentence': 'Front desk service is really slow. But the bar and amenities are great. Great complimentary happy hour and aps. Also the tv start time is also annoyingly slow almost a minute some times before the tv will finish loading and display channel.',\n",
       "   'offset': [35, 71],\n",
       "   'date': '2017-10-18',\n",
       "   'cpt': '1',\n",
       "   'category': 'facility'},\n",
       "  {'id': 16,\n",
       "   'uid': 'be029962-dfc9-4fa5-ac7b-0820b8173e55',\n",
       "   'sentence': 'Very nice. Very clean rooms and friendly staff. Room was well equipped with the necessities.',\n",
       "   'offset': [48, 92],\n",
       "   'date': '2018-02-12',\n",
       "   'cpt': '1',\n",
       "   'category': 'facility'},\n",
       "  {'id': 17,\n",
       "   'uid': 'f03f3cca-480e-4b77-b728-ccd7d7b03d91',\n",
       "   'sentence': 'Spacious accommodations for a big group of friends. The hotel is located right off the highway in a quiet neighborhood with many local shops and supermarkets. Convenient when traveling to Virginia and DC by car or going through Dulles Airport. The rooms were spacious with a sitting area coffee machine and a very nice view. Hotel staff was courteous and helpful with directions and an umbrella when we needed it.',\n",
       "   'offset': [0, 51],\n",
       "   'date': '2018-05-29',\n",
       "   'cpt': '1',\n",
       "   'category': 'facility'},\n",
       "  {'id': 18,\n",
       "   'uid': '33efb8f5-f6b5-4a58-b97f-4b02468657df',\n",
       "   'sentence': 'Very nice hotel. I stay here fairly regularly and love it. The lobby is beautiful and bar restaurant is very nice. The small deli in the lobby is helpful and the breakfast buffet while hotel pricey is delicious. The exercise room and pool make a great experience.',\n",
       "   'offset': [115, 211],\n",
       "   'date': '2018-07-09',\n",
       "   'cpt': '1',\n",
       "   'category': 'facility'},\n",
       "  {'id': 19,\n",
       "   'uid': 'e5f5dcde-dccc-4094-b62a-f3fb9f00938a',\n",
       "   'sentence': 'Nice staff roomy rooms but no food or amenities after like 10 PM. Even coolers in lobby with snacks are locked and you can not purchase as you can in many hotels.',\n",
       "   'offset': [0, 65],\n",
       "   'date': '2018-10-21',\n",
       "   'cpt': '1',\n",
       "   'category': 'facility'}]}"
      ]
     },
     "execution_count": 12,
     "metadata": {},
     "output_type": "execute_result"
    }
   ],
   "source": [
    "new_db[0]"
   ]
  }
 ],
 "metadata": {
  "kernelspec": {
   "display_name": "cpd",
   "language": "python",
   "name": "cdp"
  },
  "language_info": {
   "codemirror_mode": {
    "name": "ipython",
    "version": 3
   },
   "file_extension": ".py",
   "mimetype": "text/x-python",
   "name": "python",
   "nbconvert_exporter": "python",
   "pygments_lexer": "ipython3",
   "version": "3.7.6"
  }
 },
 "nbformat": 4,
 "nbformat_minor": 4
}
